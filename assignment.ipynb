{
 "cells": [
  {
   "cell_type": "code",
   "execution_count": 1,
   "id": "7dddc2e0-060e-4333-982a-1a8ba5ed29ce",
   "metadata": {},
   "outputs": [],
   "source": [
    "import numpy as np"
   ]
  },
  {
   "cell_type": "code",
   "execution_count": 66,
   "id": "9da44bd8-3c90-478a-a834-0727fa3e9575",
   "metadata": {},
   "outputs": [
    {
     "data": {
      "text/plain": [
       "(array([[9, 4, 8],\n",
       "        [3, 1, 1],\n",
       "        [0, 5, 0]], dtype=int32),\n",
       " np.int64(31),\n",
       " np.float64(3.4444444444444446),\n",
       " np.float64(3.1661792997277796))"
      ]
     },
     "execution_count": 66,
     "metadata": {},
     "output_type": "execute_result"
    }
   ],
   "source": [
    "# 1. Create a 3x3 array filled with random integers between 0 and 10.  Calculate the sum, mean, and standard deviation of the array.\n",
    "arr=np.random.randint(0, 11, (3, 3))\n",
    "sum_val = np.sum(arr)\n",
    "mean_val = np.mean(arr)\n",
    "std_val = np.std(arr)\n",
    "arr,sum_val,mean_val,std_val"
   ]
  },
  {
   "cell_type": "code",
   "execution_count": 67,
   "id": "5a91b804-e846-48e4-aa9b-eed0c528899c",
   "metadata": {},
   "outputs": [
    {
     "data": {
      "text/plain": [
       "(array([10,  9, 10, 10,  8, 10,  7,  5,  3,  5], dtype=int32),\n",
       " array([10, 19, 29, 39, 47, 57, 64, 69, 72, 77]))"
      ]
     },
     "execution_count": 67,
     "metadata": {},
     "output_type": "execute_result"
    }
   ],
   "source": [
    "# 2. Create a 1D array of 10 elements and compute the cumulative sum of the elements.\n",
    "arr1=np.random.randint(0, 11, 10)\n",
    "cumsum_array = np.cumsum(arr1)\n",
    "arr1,cumsum_array"
   ]
  },
  {
   "cell_type": "code",
   "execution_count": 68,
   "id": "5fcc4218-f90f-4b7f-82bd-a99fc4073246",
   "metadata": {},
   "outputs": [
    {
     "data": {
      "text/plain": [
       "(array([[ 8,  9,  4],\n",
       "        [ 9,  8, 10]], dtype=int32),\n",
       " array([[9, 6, 4],\n",
       "        [9, 1, 5]], dtype=int32),\n",
       " array([[17, 15,  8],\n",
       "        [18,  9, 15]], dtype=int32),\n",
       " array([[-1,  3,  0],\n",
       "        [ 0,  7,  5]], dtype=int32),\n",
       " array([[72, 54, 16],\n",
       "        [81,  8, 50]], dtype=int32),\n",
       " array([[0.88888889, 1.5       , 1.        ],\n",
       "        [1.        , 8.        , 2.        ]]))"
      ]
     },
     "execution_count": 68,
     "metadata": {},
     "output_type": "execute_result"
    }
   ],
   "source": [
    "# 3. Generate two 2x3 arrays with random integers and perform element-wise addition, subtraction, multiplication, and division.\n",
    "arr2=np.random.randint(1, 11, (2, 3))\n",
    "arr3=np.random.randint(1, 11, (2, 3))\n",
    "add_result = arr2 + arr3\n",
    "sub_result = arr2 - arr3\n",
    "mul_result = arr2 * arr3\n",
    "div_result = arr2 / arr3\n",
    "arr2,arr3,add_result,sub_result,mul_result,div_result"
   ]
  },
  {
   "cell_type": "code",
   "execution_count": 69,
   "id": "0c54861a-259f-4f27-8ec8-d4b90cc5a19a",
   "metadata": {},
   "outputs": [
    {
     "name": "stdout",
     "output_type": "stream",
     "text": [
      "[[1. 0. 0. 0.]\n",
      " [0. 1. 0. 0.]\n",
      " [0. 0. 1. 0.]\n",
      " [0. 0. 0. 1.]]\n"
     ]
    }
   ],
   "source": [
    "# 4. Create a 4x4 identity matrix.\n",
    "identity_matrix = np.eye(4)  \n",
    "print(identity_matrix)"
   ]
  },
  {
   "cell_type": "code",
   "execution_count": 70,
   "id": "d252ccd0-d229-4017-8172-24d49355a285",
   "metadata": {},
   "outputs": [
    {
     "data": {
      "text/plain": [
       "array([1., 2., 3., 4., 5.])"
      ]
     },
     "execution_count": 70,
     "metadata": {},
     "output_type": "execute_result"
    }
   ],
   "source": [
    "# 5. Given an array a = np.array([5, 10, 15, 20, 25]), divide each element by 5 using broadcasting.\n",
    "a = np.array([5, 10, 15, 20, 25])\n",
    "div= a/5\n",
    "div"
   ]
  },
  {
   "cell_type": "code",
   "execution_count": 71,
   "id": "21591662-8430-4bf5-92d0-d794e8841f19",
   "metadata": {},
   "outputs": [
    {
     "data": {
      "text/plain": [
       "array([[ 0,  1,  2,  3],\n",
       "       [ 4,  5,  6,  7],\n",
       "       [ 8,  9, 10, 11]])"
      ]
     },
     "execution_count": 71,
     "metadata": {},
     "output_type": "execute_result"
    }
   ],
   "source": [
    "# 6. Reshape a 1D array of 12 elements into a 3x4 matrix.\n",
    "array_reshape = np.arange(12).reshape(3, 4)\n",
    "array_reshape"
   ]
  },
  {
   "cell_type": "code",
   "execution_count": 72,
   "id": "9b369bbe-91af-41d6-a47a-da203206a06f",
   "metadata": {},
   "outputs": [
    {
     "data": {
      "text/plain": [
       "(array([[9, 4, 8],\n",
       "        [3, 1, 1],\n",
       "        [0, 5, 0]], dtype=int32),\n",
       " array([9, 4, 8, 3, 1, 1, 0, 5, 0], dtype=int32))"
      ]
     },
     "execution_count": 72,
     "metadata": {},
     "output_type": "execute_result"
    }
   ],
   "source": [
    "# 7. Flatten a 3x3 matrix into a 1D array.\n",
    "flattened_array = arr.flatten()\n",
    "arr,flattened_array"
   ]
  },
  {
   "cell_type": "code",
   "execution_count": 73,
   "id": "31485839-c8ec-4a00-b1e5-196d9acf440e",
   "metadata": {},
   "outputs": [
    {
     "data": {
      "text/plain": [
       "(array([[ 9,  3,  4,  4, 10,  6],\n",
       "        [ 8,  6, 10,  7,  9,  9],\n",
       "        [ 0,  7, 10,  0,  9,  1]], dtype=int32),\n",
       " array([[ 9,  3,  4],\n",
       "        [ 8,  6, 10],\n",
       "        [ 0,  7, 10],\n",
       "        [ 4, 10,  6],\n",
       "        [ 7,  9,  9],\n",
       "        [ 0,  9,  1]], dtype=int32))"
      ]
     },
     "execution_count": 73,
     "metadata": {},
     "output_type": "execute_result"
    }
   ],
   "source": [
    "# 8. Stack two 3x3 matrices horizontally and vertically.\n",
    "matrix_a = np.random.randint(0, 11, (3, 3))\n",
    "matrix_b = np.random.randint(0, 11, (3, 3))\n",
    "h_stack = np.hstack((matrix_a, matrix_b))\n",
    "v_stack = np.vstack((matrix_a, matrix_b))\n",
    "h_stack,v_stack"
   ]
  },
  {
   "cell_type": "code",
   "execution_count": 74,
   "id": "0a1a8c01-9aa5-4510-9474-65d0f454d82e",
   "metadata": {},
   "outputs": [
    {
     "data": {
      "text/plain": [
       "array([array([ 2, 10,  3], dtype=int32),\n",
       "       array([7, 7, 0, 3, 5], dtype=int32)], dtype=object)"
      ]
     },
     "execution_count": 74,
     "metadata": {},
     "output_type": "execute_result"
    }
   ],
   "source": [
    "# 9. Concatenate two arrays of different sizes along a new axis\n",
    "array_1 = np.random.randint(0, 11, (3,))\n",
    "array_2 = np.random.randint(0, 11, (5,))\n",
    "concat_axis = np.array([array_1, array_2], dtype=object)\n",
    "concat_axis"
   ]
  },
  {
   "cell_type": "code",
   "execution_count": 75,
   "id": "3760c252-6fa4-4e76-9a22-774fcba4f466",
   "metadata": {},
   "outputs": [
    {
     "data": {
      "text/plain": [
       "(array([[4, 2, 4],\n",
       "        [4, 0, 1]], dtype=int32),\n",
       " array([[4, 2],\n",
       "        [4, 4],\n",
       "        [0, 1]], dtype=int32))"
      ]
     },
     "execution_count": 75,
     "metadata": {},
     "output_type": "execute_result"
    }
   ],
   "source": [
    "# 10. Transpose a 3x2 matrix and then reshape it to have 3 rows and 2 columns.\n",
    "matrix_3x2 = np.random.randint(0, 11, (3, 2))\n",
    "transposed_matrix = matrix_3x2.T\n",
    "reshaped_matrix = transposed_matrix.reshape(3, 2)\n",
    "transposed_matrix,reshaped_matrix"
   ]
  },
  {
   "cell_type": "code",
   "execution_count": 76,
   "id": "ff5eaa1a-e537-48e9-a6c3-7011dee2f376",
   "metadata": {},
   "outputs": [
    {
     "data": {
      "text/plain": [
       "array([2, 4, 6, 8])"
      ]
     },
     "execution_count": 76,
     "metadata": {},
     "output_type": "execute_result"
    }
   ],
   "source": [
    "# 11. Given a 1D array of 15 elements, extract elements at positions 2 to 10 with a step of 2.\n",
    "array = np.arange(15)\n",
    "sliced_array = array[2:10:2]\n",
    "sliced_array"
   ]
  },
  {
   "cell_type": "code",
   "execution_count": 77,
   "id": "b63914fb-e2d8-4cd1-8242-3ecde46cf21d",
   "metadata": {},
   "outputs": [
    {
     "data": {
      "text/plain": [
       "(array([[ 5,  9,  4,  9,  4],\n",
       "        [10,  9,  2,  8,  3],\n",
       "        [ 3,  7,  3, 10,  9],\n",
       "        [ 4,  4,  8,  8,  1],\n",
       "        [ 9,  7, 10,  0,  7]], dtype=int32),\n",
       " array([[ 2,  8,  3],\n",
       "        [ 3, 10,  9],\n",
       "        [ 8,  8,  1]], dtype=int32))"
      ]
     },
     "execution_count": 77,
     "metadata": {},
     "output_type": "execute_result"
    }
   ],
   "source": [
    "# 12. Create a 5x5 matrix and extract the sub-matrix containing elements from rows 1 to 3 and columns 2 to 4.\n",
    "matrix = np.random.randint(0, 11, (5, 5))\n",
    "sub_matrix = matrix[1:4,2:5]\n",
    "matrix,sub_matrix"
   ]
  },
  {
   "cell_type": "code",
   "execution_count": 78,
   "id": "4bff9fb4-1069-495d-a9a2-3f9c22e9a358",
   "metadata": {},
   "outputs": [
    {
     "data": {
      "text/plain": [
       "array([ 2, 10,  4,  7,  7,  4, 10, 10, 10, 10], dtype=int32)"
      ]
     },
     "execution_count": 78,
     "metadata": {},
     "output_type": "execute_result"
    }
   ],
   "source": [
    "# 13. Replace all elements in a 1D array greater than 10 with the value 10.array_replaced = np.random.randint(0, 20, 10)\n",
    "array_replaced[array_replaced > 10] = 10\n",
    "array_replaced"
   ]
  },
  {
   "cell_type": "code",
   "execution_count": 79,
   "id": "d40ddc33-6294-4a73-9a81-7bc52bf88fe8",
   "metadata": {},
   "outputs": [
    {
     "data": {
      "text/plain": [
       "array([0, 2, 4, 6])"
      ]
     },
     "execution_count": 79,
     "metadata": {},
     "output_type": "execute_result"
    }
   ],
   "source": [
    "# 14. Use fancy indexing to select elements from a 1D array at positions [0, 2, 4, 6].\n",
    "array_fancy = np.arange(10)\n",
    "fancy_selected = array_fancy[[0, 2, 4, 6]]\n",
    "fancy_selected"
   ]
  },
  {
   "cell_type": "code",
   "execution_count": 80,
   "id": "ff20ead3-09d7-4a6a-824d-4e006f774d35",
   "metadata": {},
   "outputs": [
    {
     "data": {
      "text/plain": [
       "array([9, 8, 7, 6, 5, 4, 3, 2, 1, 0])"
      ]
     },
     "execution_count": 80,
     "metadata": {},
     "output_type": "execute_result"
    }
   ],
   "source": [
    "# 15. Create a 1D array of 10 elements and reverse it using slicing.\n",
    "reversed_array = np.arange(10)[::-1]\n",
    "reversed_array"
   ]
  },
  {
   "cell_type": "code",
   "execution_count": 81,
   "id": "7150e7fb-3000-4923-94bd-7f6883635b03",
   "metadata": {},
   "outputs": [
    {
     "data": {
      "text/plain": [
       "array([[14, 14, 10],\n",
       "       [ 6, 10, 15],\n",
       "       [ 8, 14, 18]], dtype=int32)"
      ]
     },
     "execution_count": 81,
     "metadata": {},
     "output_type": "execute_result"
    }
   ],
   "source": [
    "# 16. Create a 3x3 matrix and add a 1x3 array to each row using broadcasting.\n",
    "mat3 = np.random.randint(0, 11, (3, 3))\n",
    "arr_3 = np.random.randint(0, 11, (1, 3))\n",
    "broadcast_add = mat3 + arr_3\n",
    "broadcast_add"
   ]
  },
  {
   "cell_type": "code",
   "execution_count": 82,
   "id": "df537b37-16e7-48c3-ae2b-f870212a2a70",
   "metadata": {},
   "outputs": [
    {
     "data": {
      "text/plain": [
       "array([0, 2, 4, 6, 8])"
      ]
     },
     "execution_count": 82,
     "metadata": {},
     "output_type": "execute_result"
    }
   ],
   "source": [
    "# 17. Multiply a 1D array of 5 elements by a scalar value using broadcasting.\n",
    "array_scalar = np.arange(5) * 2\n",
    "array_scalar"
   ]
  },
  {
   "cell_type": "code",
   "execution_count": 83,
   "id": "09c7029a-ea61-4caf-bc40-7b3adeb6000c",
   "metadata": {},
   "outputs": [
    {
     "data": {
      "text/plain": [
       "array([[-3, -7, -2],\n",
       "       [ 0, -1,  9],\n",
       "       [-6, -1, -4]], dtype=int32)"
      ]
     },
     "execution_count": 83,
     "metadata": {},
     "output_type": "execute_result"
    }
   ],
   "source": [
    "# 18. Subtract a 3x1 column vector from a 3x3 matrix using broadcasting.\n",
    "mat4 = np.random.randint(0, 11, (3, 3))\n",
    "arr_4 = np.random.randint(0, 11, (3, 1))\n",
    "broadcast_sub = mat4 - arr_4\n",
    "broadcast_sub"
   ]
  },
  {
   "cell_type": "code",
   "execution_count": 84,
   "id": "d70ba359-4ee1-4cf2-b0e6-587f8ef72753",
   "metadata": {},
   "outputs": [
    {
     "data": {
      "text/plain": [
       "array([[[ 6,  5, 15, 15],\n",
       "        [10, 14, 14,  6],\n",
       "        [ 8, 10,  9, 15]],\n",
       "\n",
       "       [[15, 14, 13, 12],\n",
       "        [13, 12, 11, 12],\n",
       "        [13, 12,  7, 14]]], dtype=int32)"
      ]
     },
     "execution_count": 84,
     "metadata": {},
     "output_type": "execute_result"
    }
   ],
   "source": [
    "# 19. Add a scalar to a 3D array and demonstrate how broadcasting works across all dimensions.\n",
    "array_3d = np.random.randint(0, 11, (2, 3, 4))\n",
    "scalar_added = array_3d + 5\n",
    "scalar_added"
   ]
  },
  {
   "cell_type": "code",
   "execution_count": 85,
   "id": "8c1bfda4-c288-47d0-bfa5-641ee3d09f42",
   "metadata": {},
   "outputs": [
    {
     "data": {
      "text/plain": [
       "array([[14,  9, 10, 15,  7],\n",
       "       [18, 13, 14, 19, 11],\n",
       "       [17, 12, 13, 18, 10],\n",
       "       [17, 12, 13, 18, 10]], dtype=int32)"
      ]
     },
     "execution_count": 85,
     "metadata": {},
     "output_type": "execute_result"
    }
   ],
   "source": [
    "# 20. Create two arrays of shapes (4, 1) and (1, 5) and add them using broadcasting.\n",
    "array5 = np.random.randint(0, 11, (4, 1))\n",
    "array6 = np.random.randint(0, 11, (1, 5))\n",
    "broadcast_sum = array5 + array6\n",
    "broadcast_sum"
   ]
  },
  {
   "cell_type": "code",
   "execution_count": 86,
   "id": "a030a3c4-c3fb-4e22-bf1e-b82501d2c0b4",
   "metadata": {},
   "outputs": [
    {
     "data": {
      "text/plain": [
       "array([[2.23606798, 3.        , 3.16227766],\n",
       "       [2.44948974, 1.73205081, 2.44948974],\n",
       "       [2.44948974, 2.64575131, 2.82842712]])"
      ]
     },
     "execution_count": 86,
     "metadata": {},
     "output_type": "execute_result"
    }
   ],
   "source": [
    "# 21. Compute the square root of each element in a 2D array using vectorized operations.\n",
    "array_sqrt = np.random.randint(0, 11, (3, 3))\n",
    "sqrt_array = np.sqrt(array_sqrt)\n",
    "sqrt_array"
   ]
  },
  {
   "cell_type": "code",
   "execution_count": 87,
   "id": "7e6b1f30-65bf-4ddc-b243-d6adcd67aeae",
   "metadata": {},
   "outputs": [
    {
     "data": {
      "text/plain": [
       "np.int32(107)"
      ]
     },
     "execution_count": 87,
     "metadata": {},
     "output_type": "execute_result"
    }
   ],
   "source": [
    "# 22. Calculate the dot product of two 1D arrays of size 5.\n",
    "array_dot_a = np.random.randint(0, 11, 5)\n",
    "array_dot_b = np.random.randint(0, 11, 5)\n",
    "dot_product = np.dot(array_dot_a, array_dot_b)\n",
    "dot_product"
   ]
  },
  {
   "cell_type": "code",
   "execution_count": 88,
   "id": "a5580933-9509-40e4-a4e3-92d8b98bfe57",
   "metadata": {},
   "outputs": [
    {
     "data": {
      "text/plain": [
       "(array([10,  5,  2,  0,  2], dtype=int32),\n",
       " array([10,  5,  6,  0,  8], dtype=int32),\n",
       " array([False, False, False, False, False]))"
      ]
     },
     "execution_count": 88,
     "metadata": {},
     "output_type": "execute_result"
    }
   ],
   "source": [
    "# 23. Perform element-wise comparison of two 1D arrays and return an array of boolean values indicating where the first array has larger elements.\n",
    "array_a = np.random.randint(0, 11, 5)\n",
    "array_b = np.random.randint(0, 11, 5)\n",
    "result = array_a > array_b\n",
    "array_a,array_b,result"
   ]
  },
  {
   "cell_type": "code",
   "execution_count": 89,
   "id": "3d1178ec-7eb4-497a-b4b8-ddc8a4454bba",
   "metadata": {},
   "outputs": [
    {
     "data": {
      "text/plain": [
       "array([[ 6, 10,  8],\n",
       "       [ 4, 12,  2],\n",
       "       [12, 18, 14]], dtype=int32)"
      ]
     },
     "execution_count": 89,
     "metadata": {},
     "output_type": "execute_result"
    }
   ],
   "source": [
    "# 24. Create a 2D array and apply a vectorized operation to double the value of each element.\n",
    "array_double = np.random.randint(0, 11, (3, 3)) \n",
    "array_double*2"
   ]
  },
  {
   "cell_type": "code",
   "execution_count": 90,
   "id": "79e14b32-7c8b-4ac6-90ad-f20ac4f6ede6",
   "metadata": {},
   "outputs": [
    {
     "data": {
      "text/plain": [
       "np.int64(2368)"
      ]
     },
     "execution_count": 90,
     "metadata": {},
     "output_type": "execute_result"
    }
   ],
   "source": [
    "# 25. Create a 1D array of 100 random integers and compute the sum of all even numbers using vectorized operations.\n",
    "array100 = np.random.randint(0, 100, 100)\n",
    "sum_even = np.sum(array100[array100 % 2 == 0])\n",
    "sum_even"
   ]
  },
  {
   "cell_type": "code",
   "execution_count": 91,
   "id": "36691488-43a6-4eb9-936d-6641621caeb1",
   "metadata": {},
   "outputs": [
    {
     "data": {
      "text/plain": [
       "np.float64(-246.00000000000014)"
      ]
     },
     "execution_count": 91,
     "metadata": {},
     "output_type": "execute_result"
    }
   ],
   "source": [
    "# 26. Create a 3x3 matrix and find its determinant.\n",
    "matrix_det = np.random.randint(1, 10, (3, 3))\n",
    "determinant = np.linalg.det(matrix_det)\n",
    "determinant"
   ]
  },
  {
   "cell_type": "code",
   "execution_count": 92,
   "id": "c3532a26-47f9-4eae-bed0-fbeafa6ea327",
   "metadata": {},
   "outputs": [
    {
     "data": {
      "text/plain": [
       "array([[1.00000000e+00, 1.22124533e-15],\n",
       "       [0.00000000e+00, 1.00000000e+00]])"
      ]
     },
     "execution_count": 92,
     "metadata": {},
     "output_type": "execute_result"
    }
   ],
   "source": [
    "# 27. Given a 2x2 matrix, compute its inverse and verify by multiplying with the original matrix to obtain the identity matrix.\n",
    "matrix_a=np.random.randint(1, 10, (2, 2))\n",
    "inverse_matrix = np.linalg.inv(matrix_a)\n",
    "identity_check = np.dot(matrix_a, inverse_matrix)\n",
    "identity_check"
   ]
  },
  {
   "cell_type": "code",
   "execution_count": 93,
   "id": "e6ee424a-b235-43b8-88ce-3c7c6b45d7c5",
   "metadata": {},
   "outputs": [
    {
     "data": {
      "text/plain": [
       "(array([ 9.72015325, -0.72015325]),\n",
       " array([[ 0.88559411, -0.84396375],\n",
       "        [ 0.46445999,  0.53640022]]))"
      ]
     },
     "execution_count": 93,
     "metadata": {},
     "output_type": "execute_result"
    }
   ],
   "source": [
    "# 28. Calculate the eigenvalues and eigenvectors of a 2x2 matrix.\n",
    "eigenvalues, eigenvectors = np.linalg.eig(matrix_a)\n",
    "eigenvalues, eigenvectors"
   ]
  },
  {
   "cell_type": "code",
   "execution_count": 94,
   "id": "8af767d1-54d0-45b2-8891-a1ed80f16454",
   "metadata": {},
   "outputs": [
    {
     "data": {
      "text/plain": [
       "array([0.76923077, 1.15384615])"
      ]
     },
     "execution_count": 94,
     "metadata": {},
     "output_type": "execute_result"
    }
   ],
   "source": [
    "# 29. Solve the system of linear equations 2x + 3y = 5 and 4x + 6y = 10 using NumPy.\n",
    "A = np.array([[2, 3], [4, 6]])\n",
    "B = np.array([5, 10])\n",
    "x, residuals, rank, s = np.linalg.lstsq(A, B, rcond=None)\n",
    "x"
   ]
  },
  {
   "cell_type": "code",
   "execution_count": 95,
   "id": "262d320a-071b-487f-af0e-43fa40fed4c5",
   "metadata": {},
   "outputs": [
    {
     "data": {
      "text/plain": [
       "array([[7., 5., 7.],\n",
       "       [1., 9., 9.],\n",
       "       [5., 6., 8.]])"
      ]
     },
     "execution_count": 95,
     "metadata": {},
     "output_type": "execute_result"
    }
   ],
   "source": [
    "# 30. Perform Singular Value Decomposition (SVD) on a 3x3 matrix and reconstruct the original matrix using the SVD components.\n",
    "matrix_svd = np.random.randint(1, 10, (3, 3))\n",
    "U, S, Vt = np.linalg.svd(matrix_svd)\n",
    "reconstructed_matrix = U @ np.diag(S) @ Vt\n",
    "reconstructed_matrix"
   ]
  }
 ],
 "metadata": {
  "kernelspec": {
   "display_name": "Python 3 (ipykernel)",
   "language": "python",
   "name": "python3"
  },
  "language_info": {
   "codemirror_mode": {
    "name": "ipython",
    "version": 3
   },
   "file_extension": ".py",
   "mimetype": "text/x-python",
   "name": "python",
   "nbconvert_exporter": "python",
   "pygments_lexer": "ipython3",
   "version": "3.10.8"
  }
 },
 "nbformat": 4,
 "nbformat_minor": 5
}
